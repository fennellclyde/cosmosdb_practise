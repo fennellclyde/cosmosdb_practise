{
  "nbformat": 4,
  "nbformat_minor": 0,
  "metadata": {
    "colab": {
      "name": "006 PyMongo Cosmos.ipynb",
      "provenance": [],
      "collapsed_sections": [],
      "include_colab_link": true
    },
    "kernelspec": {
      "name": "python3",
      "display_name": "Python 3"
    },
    "language_info": {
      "name": "python"
    }
  },
  "cells": [
    {
      "cell_type": "markdown",
      "metadata": {
        "id": "view-in-github",
        "colab_type": "text"
      },
      "source": [
        "<a href=\"https://colab.research.google.com/github/fennellclyde/cosmosdb_practise/blob/main/NOSQL_practice_Mongo_Cosmos.ipynb\" target=\"_parent\"><img src=\"https://colab.research.google.com/assets/colab-badge.svg\" alt=\"Open In Colab\"/></a>"
      ]
    },
    {
      "cell_type": "code",
      "metadata": {
        "id": "4J2wIcM1-ZdB"
      },
      "source": [
        "# PLEASE DO NOT CHANGE THIS LINE\n",
        "import pymongo\n",
        "uri = \"mongodb://randomwhale:hN837NgLsDvLuQOIlMJ9klk71vdcxDoYtat8Cs5RjA4k4q0Y7DjqLwGBn1N12U46dtsdWsXvBgjuHDg75UlGWg==@randomwhale.mongo.cosmos.azure.com:10255/?ssl=true&retrywrites=false&replicaSet=globaldb&maxIdleTimeMS=120000&appName=@randomwhale@\"\n",
        "client = pymongo.MongoClient(uri)"
      ],
      "execution_count": 15,
      "outputs": []
    },
    {
      "cell_type": "code",
      "metadata": {
        "id": "D1UWc_tb1vAU"
      },
      "source": [
        "mydb = client[\"dodoisdancing\"] # PLEASE DO NOT CHANGE THIS LINE"
      ],
      "execution_count": 16,
      "outputs": []
    },
    {
      "cell_type": "code",
      "metadata": {
        "id": "ViuCq-5D87BV"
      },
      "source": [
        "mycol = mydb[\"cheese\"] # Change collection name 'fish' to anything else that you like!"
      ],
      "execution_count": 18,
      "outputs": []
    },
    {
      "cell_type": "code",
      "metadata": {
        "id": "s-j7opwR9HFW"
      },
      "source": [
        "mydict = { \"name\": \"Edam\", \"strength\": \"mild\" }\n",
        "\n",
        "x = mycol.insert_one(mydict)"
      ],
      "execution_count": 19,
      "outputs": []
    },
    {
      "cell_type": "code",
      "metadata": {
        "id": "McCQQaXI9SOe"
      },
      "source": [
        "mydict = { \"name\": \"Edam\", \"age\": 1 }\n",
        "\n",
        "x = mycol.insert_one(mydict)"
      ],
      "execution_count": 20,
      "outputs": []
    },
    {
      "cell_type": "code",
      "metadata": {
        "id": "BDOiHbc-G7lM"
      },
      "source": [
        ""
      ],
      "execution_count": 20,
      "outputs": []
    },
    {
      "cell_type": "code",
      "metadata": {
        "id": "n0EgDSQq9qIL"
      },
      "source": [
        "r2 = { \"name\": \"Edam\", \"complex\": mydict , \"subjects\":[\"eng\",\"fr\",\"gt\"]}\n",
        "\n",
        "x = mycol.insert_one(r2)"
      ],
      "execution_count": 21,
      "outputs": []
    },
    {
      "cell_type": "code",
      "metadata": {
        "colab": {
          "base_uri": "https://localhost:8080/"
        },
        "id": "Bu_SKVlg94LP",
        "outputId": "cca870eb-1149-46c9-d1a7-175a7211bb21"
      },
      "source": [
        "# MongoDB-> Document Database \n",
        "for x in mycol.find():\n",
        "  print(x)"
      ],
      "execution_count": 22,
      "outputs": [
        {
          "output_type": "stream",
          "name": "stdout",
          "text": [
            "{'_id': ObjectId('619bbde6156e2c96c0b1ef01'), 'name': 'Edam', 'strength': 'mild'}\n",
            "{'_id': ObjectId('619bbe37156e2c96c0b1ef02'), 'name': 'Edam', 'age': 1}\n",
            "{'_id': ObjectId('619bbe4d156e2c96c0b1ef03'), 'name': 'Edam', 'complex': {'name': 'Edam', 'age': 1, '_id': ObjectId('619bbe37156e2c96c0b1ef02')}, 'subjects': ['eng', 'fr', 'gt']}\n",
            "{'_id': ObjectId('619bc4b6156e2c96c0b1ef05'), 'name': 'Edam', 'strength': 'mild'}\n",
            "{'_id': ObjectId('619bc4c8156e2c96c0b1ef06'), 'name': 'Edam', 'age': 1}\n",
            "{'_id': ObjectId('619bc4d9156e2c96c0b1ef07'), 'name': 'Edam', 'complex': {'name': 'Edam', 'age': 1, '_id': ObjectId('619bc4c8156e2c96c0b1ef06')}, 'subjects': ['eng', 'fr', 'gt']}\n"
          ]
        }
      ]
    },
    {
      "cell_type": "code",
      "metadata": {
        "colab": {
          "base_uri": "https://localhost:8080/"
        },
        "id": "1hWjlFs2-d7f",
        "outputId": "6e6059d3-cd6b-452f-bdcc-983193129372"
      },
      "source": [
        "for x in mycol.find({\"name\":\"Edam\", \"age\":1}).limit(1):\n",
        "  print(x)"
      ],
      "execution_count": 23,
      "outputs": [
        {
          "output_type": "stream",
          "name": "stdout",
          "text": [
            "{'_id': ObjectId('619bbe37156e2c96c0b1ef02'), 'name': 'Edam', 'age': 1}\n"
          ]
        }
      ]
    },
    {
      "cell_type": "code",
      "metadata": {
        "colab": {
          "base_uri": "https://localhost:8080/"
        },
        "id": "PaT8LNoeMFRe",
        "outputId": "a07f05b3-d63b-427e-f2dd-bf5ce2fcb7f5"
      },
      "source": [
        "myquery = { \"name\": { \"$regex\": \"m$\" } } # for example, this is a \n",
        "# regular expression that ends with letter 'p'\n",
        "\n",
        "mydoc = mycol.find(myquery)\n",
        "\n",
        "for x in mydoc:\n",
        "  print(x)"
      ],
      "execution_count": 25,
      "outputs": [
        {
          "output_type": "stream",
          "name": "stdout",
          "text": [
            "{'_id': ObjectId('619bbde6156e2c96c0b1ef01'), 'name': 'Edam', 'strength': 'mild'}\n",
            "{'_id': ObjectId('619bbe37156e2c96c0b1ef02'), 'name': 'Edam', 'age': 1}\n",
            "{'_id': ObjectId('619bbe4d156e2c96c0b1ef03'), 'name': 'Edam', 'complex': {'name': 'Edam', 'age': 1, '_id': ObjectId('619bbe37156e2c96c0b1ef02')}, 'subjects': ['eng', 'fr', 'gt']}\n",
            "{'_id': ObjectId('619bc4b6156e2c96c0b1ef05'), 'name': 'Edam', 'strength': 'mild'}\n",
            "{'_id': ObjectId('619bc4c8156e2c96c0b1ef06'), 'name': 'Edam', 'age': 1}\n",
            "{'_id': ObjectId('619bc4d9156e2c96c0b1ef07'), 'name': 'Edam', 'complex': {'name': 'Edam', 'age': 1, '_id': ObjectId('619bc4c8156e2c96c0b1ef06')}, 'subjects': ['eng', 'fr', 'gt']}\n"
          ]
        }
      ]
    },
    {
      "cell_type": "code",
      "metadata": {
        "id": "_6lUJBBh-kIZ"
      },
      "source": [
        "# Modern-> 2 things-> Credentials, strictly mantain relationship \n",
        "# SQL-> Tx\n",
        "# moving from SQL to Mongo or Blob or Table\n",
        "# Search from there! "
      ],
      "execution_count": 26,
      "outputs": []
    },
    {
      "cell_type": "code",
      "metadata": {
        "id": "q7ZND5iA_9ug"
      },
      "source": [
        "# Product Description\n",
        "# TV, Fridge, Ship-> price, catID-> SEMI - STRUCTURED\n",
        "# diagonal, price, \n",
        "# volume, price, color\n",
        "# capacity, name, not_available \n"
      ],
      "execution_count": 27,
      "outputs": []
    },
    {
      "cell_type": "code",
      "metadata": {
        "id": "TAOECAAtAZ7v"
      },
      "source": [
        "# Shopping basket -> { itemid, item count, unit price, totalprice}-> "
      ],
      "execution_count": 28,
      "outputs": []
    },
    {
      "cell_type": "code",
      "metadata": {
        "id": "Izk3_QuQAov4"
      },
      "source": [
        "# use SQL-> RELATIONSHIPs-> FK "
      ],
      "execution_count": 29,
      "outputs": []
    },
    {
      "cell_type": "code",
      "metadata": {
        "id": "LY5uckz_MBAe"
      },
      "source": [
        ""
      ],
      "execution_count": 29,
      "outputs": []
    }
  ]
}